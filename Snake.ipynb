{
 "cells": [
  {
   "cell_type": "code",
   "execution_count": 2,
   "metadata": {},
   "outputs": [
    {
     "name": "stdout",
     "output_type": "stream",
     "text": [
      "Collecting pygame\n",
      "  Downloading https://files.pythonhosted.org/packages/ed/56/b63ab3724acff69f4080e54c4bc5f55d1fbdeeb19b92b70acf45e88a5908/pygame-1.9.6-cp37-cp37m-win_amd64.whl (4.3MB)\n",
      "Installing collected packages: pygame\n",
      "Successfully installed pygame-1.9.6\n"
     ]
    }
   ],
   "source": [
    "!pip install pygame"
   ]
  },
  {
   "cell_type": "code",
   "execution_count": 2,
   "metadata": {},
   "outputs": [
    {
     "name": "stdout",
     "output_type": "stream",
     "text": [
      "pygame 1.9.6\n",
      "Hello from the pygame community. https://www.pygame.org/contribute.html\n"
     ]
    }
   ],
   "source": [
    "import math\n",
    "import random\n",
    "import pygame"
   ]
  },
  {
   "cell_type": "code",
   "execution_count": 3,
   "metadata": {},
   "outputs": [],
   "source": [
    "import tkinter as tk"
   ]
  },
  {
   "cell_type": "code",
   "execution_count": 4,
   "metadata": {},
   "outputs": [],
   "source": [
    "from tkinter import messagebox"
   ]
  },
  {
   "cell_type": "code",
   "execution_count": 5,
   "metadata": {},
   "outputs": [
    {
     "ename": "TypeError",
     "evalue": "snake() takes 1 positional argument but 2 were given",
     "output_type": "error",
     "traceback": [
      "\u001b[1;31m---------------------------------------------------------------------------\u001b[0m",
      "\u001b[1;31mTypeError\u001b[0m                                 Traceback (most recent call last)",
      "\u001b[1;32m<ipython-input-5-2ca9483a9a9e>\u001b[0m in \u001b[0;36m<module>\u001b[1;34m\u001b[0m\n\u001b[0;32m     37\u001b[0m         \u001b[0mredrawWindow\u001b[0m\u001b[1;33m(\u001b[0m\u001b[0mwin\u001b[0m\u001b[1;33m)\u001b[0m\u001b[1;33m\u001b[0m\u001b[1;33m\u001b[0m\u001b[0m\n\u001b[0;32m     38\u001b[0m     \u001b[1;32mpass\u001b[0m\u001b[1;33m\u001b[0m\u001b[1;33m\u001b[0m\u001b[0m\n\u001b[1;32m---> 39\u001b[1;33m \u001b[0mmain\u001b[0m\u001b[1;33m(\u001b[0m\u001b[1;33m)\u001b[0m\u001b[1;33m\u001b[0m\u001b[1;33m\u001b[0m\u001b[0m\n\u001b[0m",
      "\u001b[1;32m<ipython-input-5-2ca9483a9a9e>\u001b[0m in \u001b[0;36mmain\u001b[1;34m()\u001b[0m\n\u001b[0;32m     30\u001b[0m     \u001b[0mclock\u001b[0m \u001b[1;33m=\u001b[0m \u001b[0mpygame\u001b[0m\u001b[1;33m.\u001b[0m\u001b[0mtime\u001b[0m\u001b[1;33m.\u001b[0m\u001b[0mClock\u001b[0m\u001b[1;33m(\u001b[0m\u001b[1;33m)\u001b[0m\u001b[1;33m\u001b[0m\u001b[1;33m\u001b[0m\u001b[0m\n\u001b[0;32m     31\u001b[0m     \u001b[0mwin\u001b[0m \u001b[1;33m=\u001b[0m \u001b[0mpygame\u001b[0m\u001b[1;33m.\u001b[0m\u001b[0mdisplay\u001b[0m\u001b[1;33m.\u001b[0m\u001b[0mset_mode\u001b[0m\u001b[1;33m(\u001b[0m\u001b[1;33m(\u001b[0m\u001b[0mwidth\u001b[0m\u001b[1;33m,\u001b[0m \u001b[0mwidth\u001b[0m\u001b[1;33m)\u001b[0m\u001b[1;33m)\u001b[0m\u001b[1;33m\u001b[0m\u001b[1;33m\u001b[0m\u001b[0m\n\u001b[1;32m---> 32\u001b[1;33m     \u001b[0ms\u001b[0m \u001b[1;33m=\u001b[0m \u001b[0msnake\u001b[0m\u001b[1;33m(\u001b[0m\u001b[1;33m(\u001b[0m\u001b[1;36m255\u001b[0m\u001b[1;33m,\u001b[0m \u001b[1;36m0\u001b[0m\u001b[1;33m,\u001b[0m \u001b[1;36m0\u001b[0m\u001b[1;33m)\u001b[0m\u001b[1;33m,\u001b[0m \u001b[1;33m(\u001b[0m\u001b[1;36m10\u001b[0m\u001b[1;33m,\u001b[0m \u001b[1;36m10\u001b[0m\u001b[1;33m)\u001b[0m\u001b[1;33m)\u001b[0m \u001b[1;31m#for red snake and for the snake to start in the middle\u001b[0m\u001b[1;33m\u001b[0m\u001b[1;33m\u001b[0m\u001b[0m\n\u001b[0m\u001b[0;32m     33\u001b[0m     \u001b[0mFlag\u001b[0m \u001b[1;33m=\u001b[0m \u001b[1;32mTrue\u001b[0m\u001b[1;33m\u001b[0m\u001b[1;33m\u001b[0m\u001b[0m\n\u001b[0;32m     34\u001b[0m     \u001b[1;32mwhile\u001b[0m \u001b[0mFlag\u001b[0m\u001b[1;33m:\u001b[0m\u001b[1;33m\u001b[0m\u001b[1;33m\u001b[0m\u001b[0m\n",
      "\u001b[1;31mTypeError\u001b[0m: snake() takes 1 positional argument but 2 were given"
     ]
    }
   ],
   "source": [
    "class cube(object):\n",
    "    rows = 0\n",
    "    w = 0\n",
    "def snake(object):\n",
    "    body = []\n",
    "    turns = {}\n",
    "    def _init_(self, color, pos):\n",
    "        self.color = color\n",
    "        self.head = cube(pos)\n",
    "        self.body.append(self.head)\n",
    "        self.dirnx = 0\n",
    "        self.dirny = 1 #direction for x and y snake movement\n",
    "    def move(self):\n",
    "        for events in pygame.event.get():\n",
    "            if event.type == pygame.QUIT:\n",
    "                pygame.quit()\n",
    "            keys = pygame.key.get_pressed() #gets all the keys values and if they were pressed or not, so if more than one keys are pressed it will adjust\n",
    "            for key in keys:\n",
    "                if keys[pygame.K_LEFT]:\n",
    "                    \n",
    "                if keys[pygame.K_RIGHT]:\n",
    "                    \n",
    "                if keys[pygame.K_UP]:\n",
    "                    \n",
    "                if keys[pygame.K_DOWN]:\n",
    "                    \n",
    "             \n",
    "                    \n",
    "            \n",
    "            \n",
    "        \n",
    "    pass\n",
    "\n",
    "def drawGrid(w, rows, surface): #to draw the boxes or to figure out where to draw the lines\n",
    "    sizeBtwn = w // rows\n",
    "    x = 0\n",
    "    y = 0\n",
    "    for l in range(rows):\n",
    "        x = x + sizeBtwn\n",
    "        y = y + sizeBtwn\n",
    "        pygame.draw.line(surface, (255, 255, 255), (x, 0), (x, w)) #drawing lines, white color, position\n",
    "        pygame.draw.line(surface, (255, 255, 255), (0, y), (w, y)) #drawing lines, white color, position\n",
    "    \n",
    "    \n",
    "\n",
    "def redrawWindow(surface):\n",
    "    global width, rows\n",
    "    surface.fill((0,0,0)) #to fill the screen with black\n",
    "    drawgrid(width, rows, surface)\n",
    "    pygame.display.update()\n",
    "    \n",
    "    \n",
    "def main():\n",
    "    global width, rows\n",
    "    width = 500\n",
    "    rows = 20 #if 10 it will go much faster\n",
    "    clock = pygame.time.Clock()\n",
    "    win = pygame.display.set_mode((width, width))\n",
    "    s = snake((255, 0, 0), (10, 10)) #for red snake and for the snake to start in the middle\n",
    "    Flag = True\n",
    "    while Flag:\n",
    "        pygame.time.delay(50) #delay it by 50 ms, so that the program doesnt run too fast\n",
    "        clock.tick(10) #for game to not run within 10 frames per sec (snake moves 10 blocks per sec)\n",
    "        redrawWindow(win)       \n",
    "    pass\n",
    "main()"
   ]
  },
  {
   "cell_type": "code",
   "execution_count": null,
   "metadata": {},
   "outputs": [],
   "source": []
  }
 ],
 "metadata": {
  "kernelspec": {
   "display_name": "Python 3",
   "language": "python",
   "name": "python3"
  },
  "language_info": {
   "codemirror_mode": {
    "name": "ipython",
    "version": 3
   },
   "file_extension": ".py",
   "mimetype": "text/x-python",
   "name": "python",
   "nbconvert_exporter": "python",
   "pygments_lexer": "ipython3",
   "version": "3.7.4"
  }
 },
 "nbformat": 4,
 "nbformat_minor": 2
}
